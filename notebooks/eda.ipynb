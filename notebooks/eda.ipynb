{
 "cells": [
  {
   "cell_type": "code",
   "execution_count": 1,
   "metadata": {},
   "outputs": [],
   "source": [
    "import pandas as pd"
   ]
  },
  {
   "cell_type": "markdown",
   "metadata": {},
   "source": [
    "### High level look at data "
   ]
  },
  {
   "cell_type": "code",
   "execution_count": 13,
   "metadata": {},
   "outputs": [
    {
     "name": "stdout",
     "output_type": "stream",
     "text": [
      "(272, 6)\n"
     ]
    },
    {
     "data": {
      "text/html": [
       "<div>\n",
       "<style scoped>\n",
       "    .dataframe tbody tr th:only-of-type {\n",
       "        vertical-align: middle;\n",
       "    }\n",
       "\n",
       "    .dataframe tbody tr th {\n",
       "        vertical-align: top;\n",
       "    }\n",
       "\n",
       "    .dataframe thead th {\n",
       "        text-align: right;\n",
       "    }\n",
       "</style>\n",
       "<table border=\"1\" class=\"dataframe\">\n",
       "  <thead>\n",
       "    <tr style=\"text-align: right;\">\n",
       "      <th></th>\n",
       "      <th>brand</th>\n",
       "      <th>name</th>\n",
       "      <th>colors</th>\n",
       "      <th>color_names</th>\n",
       "      <th>description</th>\n",
       "      <th>details</th>\n",
       "    </tr>\n",
       "  </thead>\n",
       "  <tbody>\n",
       "    <tr>\n",
       "      <th>0</th>\n",
       "      <td>sailor</td>\n",
       "      <td>Naginata Togi Ebonite Fountain Pen</td>\n",
       "      <td>[]</td>\n",
       "      <td>[]</td>\n",
       "      <td>[\\n                      The once-a-year relea...</td>\n",
       "      <td>{'Item Code': ['10-1813-378 (MF)', '10-1813-47...</td>\n",
       "    </tr>\n",
       "    <tr>\n",
       "      <th>1</th>\n",
       "      <td>sailor</td>\n",
       "      <td>SHIKIORI Kusa Asobi Fountain Pen</td>\n",
       "      <td>[#ffb6c1, #00bfff, #8b4513, #006400]</td>\n",
       "      <td>[Hanakanmuri, Sasabune, Tsurubami, Yukiusagi]</td>\n",
       "      <td>[\\n                      This is a fountain pe...</td>\n",
       "      <td>{'Item Code': ['［ Hanakanmuri ］', '11-0657-201...</td>\n",
       "    </tr>\n",
       "  </tbody>\n",
       "</table>\n",
       "</div>"
      ],
      "text/plain": [
       "    brand                                name  \\\n",
       "0  sailor  Naginata Togi Ebonite Fountain Pen   \n",
       "1  sailor    SHIKIORI Kusa Asobi Fountain Pen   \n",
       "\n",
       "                                 colors  \\\n",
       "0                                    []   \n",
       "1  [#ffb6c1, #00bfff, #8b4513, #006400]   \n",
       "\n",
       "                                     color_names  \\\n",
       "0                                             []   \n",
       "1  [Hanakanmuri, Sasabune, Tsurubami, Yukiusagi]   \n",
       "\n",
       "                                         description  \\\n",
       "0  [\\n                      The once-a-year relea...   \n",
       "1  [\\n                      This is a fountain pe...   \n",
       "\n",
       "                                             details  \n",
       "0  {'Item Code': ['10-1813-378 (MF)', '10-1813-47...  \n",
       "1  {'Item Code': ['［ Hanakanmuri ］', '11-0657-201...  "
      ]
     },
     "execution_count": 13,
     "metadata": {},
     "output_type": "execute_result"
    }
   ],
   "source": [
    "df_sailor = pd.read_json(\"../data/official_brand_sites/sailor.json\")\n",
    "print(df_sailor.shape)\n",
    "df_sailor.head(2)"
   ]
  },
  {
   "cell_type": "code",
   "execution_count": 14,
   "metadata": {},
   "outputs": [
    {
     "name": "stdout",
     "output_type": "stream",
     "text": [
      "(90, 5)\n"
     ]
    },
    {
     "data": {
      "text/html": [
       "<div>\n",
       "<style scoped>\n",
       "    .dataframe tbody tr th:only-of-type {\n",
       "        vertical-align: middle;\n",
       "    }\n",
       "\n",
       "    .dataframe tbody tr th {\n",
       "        vertical-align: top;\n",
       "    }\n",
       "\n",
       "    .dataframe thead th {\n",
       "        text-align: right;\n",
       "    }\n",
       "</style>\n",
       "<table border=\"1\" class=\"dataframe\">\n",
       "  <thead>\n",
       "    <tr style=\"text-align: right;\">\n",
       "      <th></th>\n",
       "      <th>brand</th>\n",
       "      <th>name</th>\n",
       "      <th>price</th>\n",
       "      <th>size</th>\n",
       "      <th>details</th>\n",
       "    </tr>\n",
       "  </thead>\n",
       "  <tbody>\n",
       "    <tr>\n",
       "      <th>0</th>\n",
       "      <td>kaweco</td>\n",
       "      <td>[\\nKaweco CLASSIC SPORT Fountain Pen Navy\\n]</td>\n",
       "      <td>[\\n, \\n24.95€ *\\n]</td>\n",
       "      <td>[\\nExtra Fine\\n, \\nFine\\n, \\nMedium\\n, \\nBroad...</td>\n",
       "      <td>{'Material Colour:': 'Blue', 'Writing System:'...</td>\n",
       "    </tr>\n",
       "    <tr>\n",
       "      <th>1</th>\n",
       "      <td>kaweco</td>\n",
       "      <td>[\\nKaweco COLLECTION Fountain Pen Vibrant Viol...</td>\n",
       "      <td>[\\n, \\n69.50€ *\\n]</td>\n",
       "      <td>[\\nExtra Fine\\n, \\nFine\\n, \\nMedium\\n, \\nBroad...</td>\n",
       "      <td>{'Material Colour:': 'Lila', 'Writing System:'...</td>\n",
       "    </tr>\n",
       "  </tbody>\n",
       "</table>\n",
       "</div>"
      ],
      "text/plain": [
       "    brand                                               name  \\\n",
       "0  kaweco       [\\nKaweco CLASSIC SPORT Fountain Pen Navy\\n]   \n",
       "1  kaweco  [\\nKaweco COLLECTION Fountain Pen Vibrant Viol...   \n",
       "\n",
       "                price                                               size  \\\n",
       "0  [\\n, \\n24.95€ *\\n]  [\\nExtra Fine\\n, \\nFine\\n, \\nMedium\\n, \\nBroad...   \n",
       "1  [\\n, \\n69.50€ *\\n]  [\\nExtra Fine\\n, \\nFine\\n, \\nMedium\\n, \\nBroad...   \n",
       "\n",
       "                                             details  \n",
       "0  {'Material Colour:': 'Blue', 'Writing System:'...  \n",
       "1  {'Material Colour:': 'Lila', 'Writing System:'...  "
      ]
     },
     "execution_count": 14,
     "metadata": {},
     "output_type": "execute_result"
    }
   ],
   "source": [
    "df_kaweco = pd.read_json(\"../data/official_brand_sites/kaweco.json\")\n",
    "print(df_kaweco.shape)\n",
    "df_kaweco.head(2)"
   ]
  },
  {
   "cell_type": "code",
   "execution_count": 15,
   "metadata": {},
   "outputs": [
    {
     "name": "stdout",
     "output_type": "stream",
     "text": [
      "(12, 8)\n"
     ]
    },
    {
     "data": {
      "text/html": [
       "<div>\n",
       "<style scoped>\n",
       "    .dataframe tbody tr th:only-of-type {\n",
       "        vertical-align: middle;\n",
       "    }\n",
       "\n",
       "    .dataframe tbody tr th {\n",
       "        vertical-align: top;\n",
       "    }\n",
       "\n",
       "    .dataframe thead th {\n",
       "        text-align: right;\n",
       "    }\n",
       "</style>\n",
       "<table border=\"1\" class=\"dataframe\">\n",
       "  <thead>\n",
       "    <tr style=\"text-align: right;\">\n",
       "      <th></th>\n",
       "      <th>brand</th>\n",
       "      <th>name</th>\n",
       "      <th>price</th>\n",
       "      <th>size</th>\n",
       "      <th>weight</th>\n",
       "      <th>nib</th>\n",
       "      <th>color_names</th>\n",
       "      <th>description</th>\n",
       "    </tr>\n",
       "  </thead>\n",
       "  <tbody>\n",
       "    <tr>\n",
       "      <th>0</th>\n",
       "      <td>lamy</td>\n",
       "      <td>[LAMY AL-star Fountain Pen black]</td>\n",
       "      <td>€28.50</td>\n",
       "      <td>0.51 x 0.51 x 5.50 mm</td>\n",
       "      <td>0.05</td>\n",
       "      <td>[variant_nib_grade_F, variant_nib_grade_M, var...</td>\n",
       "      <td>[variant_model_color_material_aquatic, variant...</td>\n",
       "      <td>[Light, lighter, LAMY AL-star: the writing cla...</td>\n",
       "    </tr>\n",
       "    <tr>\n",
       "      <th>1</th>\n",
       "      <td>lamy</td>\n",
       "      <td>[LAMY joy AL Fountain Pen black]</td>\n",
       "      <td>€28.00</td>\n",
       "      <td>12 x 12 x 182 mm</td>\n",
       "      <td>20.00</td>\n",
       "      <td>[variant_nib_grade_1,9, variant_nib_grade_1,5,...</td>\n",
       "      <td>[variant_model_color_material_black]</td>\n",
       "      <td>[Discover the LAMY joy: it is the perfect writ...</td>\n",
       "    </tr>\n",
       "  </tbody>\n",
       "</table>\n",
       "</div>"
      ],
      "text/plain": [
       "  brand                               name   price                   size  \\\n",
       "0  lamy  [LAMY AL-star Fountain Pen black]  €28.50  0.51 x 0.51 x 5.50 mm   \n",
       "1  lamy   [LAMY joy AL Fountain Pen black]  €28.00       12 x 12 x 182 mm   \n",
       "\n",
       "   weight                                                nib  \\\n",
       "0    0.05  [variant_nib_grade_F, variant_nib_grade_M, var...   \n",
       "1   20.00  [variant_nib_grade_1,9, variant_nib_grade_1,5,...   \n",
       "\n",
       "                                         color_names  \\\n",
       "0  [variant_model_color_material_aquatic, variant...   \n",
       "1               [variant_model_color_material_black]   \n",
       "\n",
       "                                         description  \n",
       "0  [Light, lighter, LAMY AL-star: the writing cla...  \n",
       "1  [Discover the LAMY joy: it is the perfect writ...  "
      ]
     },
     "execution_count": 15,
     "metadata": {},
     "output_type": "execute_result"
    }
   ],
   "source": [
    "df_lamy = pd.read_json(\"../data/official_brand_sites/lamy.json\")\n",
    "print(df_lamy.shape)\n",
    "df_lamy.head(2)"
   ]
  }
 ],
 "metadata": {
  "kernelspec": {
   "display_name": "venv",
   "language": "python",
   "name": "python3"
  },
  "language_info": {
   "codemirror_mode": {
    "name": "ipython",
    "version": 3
   },
   "file_extension": ".py",
   "mimetype": "text/x-python",
   "name": "python",
   "nbconvert_exporter": "python",
   "pygments_lexer": "ipython3",
   "version": "3.11.2"
  }
 },
 "nbformat": 4,
 "nbformat_minor": 2
}
