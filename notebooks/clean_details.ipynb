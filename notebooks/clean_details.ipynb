{
 "cells": [
  {
   "cell_type": "code",
   "execution_count": 1,
   "metadata": {},
   "outputs": [],
   "source": [
    "import pandas as pd"
   ]
  },
  {
   "cell_type": "code",
   "execution_count": 2,
   "metadata": {},
   "outputs": [
    {
     "name": "stdout",
     "output_type": "stream",
     "text": [
      "(272, 6)\n"
     ]
    },
    {
     "data": {
      "text/html": [
       "<div>\n",
       "<style scoped>\n",
       "    .dataframe tbody tr th:only-of-type {\n",
       "        vertical-align: middle;\n",
       "    }\n",
       "\n",
       "    .dataframe tbody tr th {\n",
       "        vertical-align: top;\n",
       "    }\n",
       "\n",
       "    .dataframe thead th {\n",
       "        text-align: right;\n",
       "    }\n",
       "</style>\n",
       "<table border=\"1\" class=\"dataframe\">\n",
       "  <thead>\n",
       "    <tr style=\"text-align: right;\">\n",
       "      <th></th>\n",
       "      <th>brand</th>\n",
       "      <th>name</th>\n",
       "      <th>colors</th>\n",
       "      <th>color_names</th>\n",
       "      <th>description</th>\n",
       "      <th>details</th>\n",
       "    </tr>\n",
       "  </thead>\n",
       "  <tbody>\n",
       "    <tr>\n",
       "      <th>0</th>\n",
       "      <td>sailor</td>\n",
       "      <td>Naginata Togi Ebonite Fountain Pen</td>\n",
       "      <td>[]</td>\n",
       "      <td>[]</td>\n",
       "      <td>[\\n                      The once-a-year relea...</td>\n",
       "      <td>{'Item Code': ['10-1813-378 (MF)', '10-1813-47...</td>\n",
       "    </tr>\n",
       "    <tr>\n",
       "      <th>1</th>\n",
       "      <td>sailor</td>\n",
       "      <td>SHIKIORI Kusa Asobi Fountain Pen</td>\n",
       "      <td>[#ffb6c1, #00bfff, #8b4513, #006400]</td>\n",
       "      <td>[Hanakanmuri, Sasabune, Tsurubami, Yukiusagi]</td>\n",
       "      <td>[\\n                      This is a fountain pe...</td>\n",
       "      <td>{'Item Code': ['［ Hanakanmuri ］', '11-0657-201...</td>\n",
       "    </tr>\n",
       "  </tbody>\n",
       "</table>\n",
       "</div>"
      ],
      "text/plain": [
       "    brand                                name  \\\n",
       "0  sailor  Naginata Togi Ebonite Fountain Pen   \n",
       "1  sailor    SHIKIORI Kusa Asobi Fountain Pen   \n",
       "\n",
       "                                 colors  \\\n",
       "0                                    []   \n",
       "1  [#ffb6c1, #00bfff, #8b4513, #006400]   \n",
       "\n",
       "                                     color_names  \\\n",
       "0                                             []   \n",
       "1  [Hanakanmuri, Sasabune, Tsurubami, Yukiusagi]   \n",
       "\n",
       "                                         description  \\\n",
       "0  [\\n                      The once-a-year relea...   \n",
       "1  [\\n                      This is a fountain pe...   \n",
       "\n",
       "                                             details  \n",
       "0  {'Item Code': ['10-1813-378 (MF)', '10-1813-47...  \n",
       "1  {'Item Code': ['［ Hanakanmuri ］', '11-0657-201...  "
      ]
     },
     "execution_count": 2,
     "metadata": {},
     "output_type": "execute_result"
    }
   ],
   "source": [
    "df_sailor = pd.read_json(\"../data/official_brand_sites/sailor.json\")\n",
    "print(df_sailor.shape)\n",
    "df_sailor.head(2)"
   ]
  },
  {
   "cell_type": "code",
   "execution_count": 3,
   "metadata": {},
   "outputs": [
    {
     "data": {
      "text/plain": [
       "{'Item Code': ['10-1813-378 (MF)', '10-1813-478 (M)', '10-1813-678 (B)'],\n",
       " 'Barcode': ['49-01680-17772-2 (MF)',\n",
       "  '49-01680-17773-9 (M)',\n",
       "  '49-01680-17774-6 (B)'],\n",
       " 'Nib': ['21K Gold with Bicolor plating, Naginata Togi'],\n",
       " 'Type': ['Converter & Cartridge type'],\n",
       " 'Material': ['Ebonite'],\n",
       " 'Size': ['φ20×152.1mm (including the clip)'],\n",
       " 'Weight': ['36.2g (including the converter)'],\n",
       " 'Package': ['Special gift box  (212×154×68mm)']}"
      ]
     },
     "execution_count": 3,
     "metadata": {},
     "output_type": "execute_result"
    }
   ],
   "source": [
    "details = df_sailor['details'][0]\n",
    "details"
   ]
  },
  {
   "cell_type": "code",
   "execution_count": 4,
   "metadata": {},
   "outputs": [],
   "source": [
    "keywords = [\"nib\", \"type\", \"material\", \"size\", \"weight\"]"
   ]
  },
  {
   "cell_type": "code",
   "execution_count": 5,
   "metadata": {},
   "outputs": [],
   "source": [
    "test = df_sailor.copy()\n",
    "            "
   ]
  },
  {
   "cell_type": "code",
   "execution_count": 6,
   "metadata": {},
   "outputs": [],
   "source": [
    "def extract_keywords(details, keywords):\n",
    "    extracted = {}\n",
    "    for keyword in keywords:\n",
    "        # Check each key in the 'details' dict for the keyword (case insensitive)\n",
    "        for key, value in details.items():\n",
    "            if keyword.lower() in key.lower():\n",
    "                extracted[keyword] = value\n",
    "                break  # We found the first match, no need to continue searching for this keyword\n",
    "    return extracted"
   ]
  },
  {
   "cell_type": "code",
   "execution_count": 7,
   "metadata": {},
   "outputs": [],
   "source": [
    "df_extracted = test['details'].apply(lambda details: extract_keywords(details, keywords))"
   ]
  },
  {
   "cell_type": "code",
   "execution_count": 8,
   "metadata": {},
   "outputs": [],
   "source": [
    "df_expanded = pd.json_normalize(df_extracted)"
   ]
  },
  {
   "cell_type": "code",
   "execution_count": 9,
   "metadata": {},
   "outputs": [],
   "source": [
    "df = pd.concat([test.drop(columns=['details']), df_expanded], axis=1)"
   ]
  },
  {
   "cell_type": "code",
   "execution_count": 10,
   "metadata": {},
   "outputs": [],
   "source": [
    "def fix_weight(value):\n",
    "    if isinstance(value, list):\n",
    "        return float(value[0].split('g')[0])\n"
   ]
  },
  {
   "cell_type": "code",
   "execution_count": 11,
   "metadata": {},
   "outputs": [],
   "source": [
    "df['weight'] = df['weight'].apply(fix_weight)"
   ]
  },
  {
   "cell_type": "code",
   "execution_count": 12,
   "metadata": {},
   "outputs": [
    {
     "data": {
      "text/html": [
       "<div>\n",
       "<style scoped>\n",
       "    .dataframe tbody tr th:only-of-type {\n",
       "        vertical-align: middle;\n",
       "    }\n",
       "\n",
       "    .dataframe tbody tr th {\n",
       "        vertical-align: top;\n",
       "    }\n",
       "\n",
       "    .dataframe thead th {\n",
       "        text-align: right;\n",
       "    }\n",
       "</style>\n",
       "<table border=\"1\" class=\"dataframe\">\n",
       "  <thead>\n",
       "    <tr style=\"text-align: right;\">\n",
       "      <th></th>\n",
       "      <th>brand</th>\n",
       "      <th>name</th>\n",
       "      <th>colors</th>\n",
       "      <th>color_names</th>\n",
       "      <th>description</th>\n",
       "      <th>nib</th>\n",
       "      <th>type</th>\n",
       "      <th>material</th>\n",
       "      <th>size</th>\n",
       "      <th>weight</th>\n",
       "    </tr>\n",
       "  </thead>\n",
       "  <tbody>\n",
       "    <tr>\n",
       "      <th>0</th>\n",
       "      <td>sailor</td>\n",
       "      <td>Naginata Togi Ebonite Fountain Pen</td>\n",
       "      <td>[]</td>\n",
       "      <td>[]</td>\n",
       "      <td>[\\n                      The once-a-year relea...</td>\n",
       "      <td>[21K Gold with Bicolor plating, Naginata Togi]</td>\n",
       "      <td>[Converter &amp; Cartridge type]</td>\n",
       "      <td>[Ebonite]</td>\n",
       "      <td>[φ20×152.1mm (including the clip)]</td>\n",
       "      <td>36.2</td>\n",
       "    </tr>\n",
       "    <tr>\n",
       "      <th>1</th>\n",
       "      <td>sailor</td>\n",
       "      <td>SHIKIORI Kusa Asobi Fountain Pen</td>\n",
       "      <td>[#ffb6c1, #00bfff, #8b4513, #006400]</td>\n",
       "      <td>[Hanakanmuri, Sasabune, Tsurubami, Yukiusagi]</td>\n",
       "      <td>[\\n                      This is a fountain pe...</td>\n",
       "      <td>[Stainless Steel, Gold IP]</td>\n",
       "      <td>[Converter &amp; Cartridge type]</td>\n",
       "      <td>[PMMA Resin]</td>\n",
       "      <td>[φ17×134mm（including the clip）]</td>\n",
       "      <td>12.2</td>\n",
       "    </tr>\n",
       "    <tr>\n",
       "      <th>2</th>\n",
       "      <td>sailor</td>\n",
       "      <td>Teatime Around the World Fountain Pen Afternoo...</td>\n",
       "      <td>[]</td>\n",
       "      <td>[]</td>\n",
       "      <td>[\\n                      Teatime Around the Wo...</td>\n",
       "      <td>[21K Gold with Rhodium plating]</td>\n",
       "      <td>[Converter &amp; Cartridge type]</td>\n",
       "      <td>[PMMA Resin]</td>\n",
       "      <td>[φ18 x 129mm (including the clip)]</td>\n",
       "      <td>21.6</td>\n",
       "    </tr>\n",
       "  </tbody>\n",
       "</table>\n",
       "</div>"
      ],
      "text/plain": [
       "    brand                                               name  \\\n",
       "0  sailor                 Naginata Togi Ebonite Fountain Pen   \n",
       "1  sailor                   SHIKIORI Kusa Asobi Fountain Pen   \n",
       "2  sailor  Teatime Around the World Fountain Pen Afternoo...   \n",
       "\n",
       "                                 colors  \\\n",
       "0                                    []   \n",
       "1  [#ffb6c1, #00bfff, #8b4513, #006400]   \n",
       "2                                    []   \n",
       "\n",
       "                                     color_names  \\\n",
       "0                                             []   \n",
       "1  [Hanakanmuri, Sasabune, Tsurubami, Yukiusagi]   \n",
       "2                                             []   \n",
       "\n",
       "                                         description  \\\n",
       "0  [\\n                      The once-a-year relea...   \n",
       "1  [\\n                      This is a fountain pe...   \n",
       "2  [\\n                      Teatime Around the Wo...   \n",
       "\n",
       "                                              nib  \\\n",
       "0  [21K Gold with Bicolor plating, Naginata Togi]   \n",
       "1                      [Stainless Steel, Gold IP]   \n",
       "2                 [21K Gold with Rhodium plating]   \n",
       "\n",
       "                           type      material  \\\n",
       "0  [Converter & Cartridge type]     [Ebonite]   \n",
       "1  [Converter & Cartridge type]  [PMMA Resin]   \n",
       "2  [Converter & Cartridge type]  [PMMA Resin]   \n",
       "\n",
       "                                 size  weight  \n",
       "0  [φ20×152.1mm (including the clip)]    36.2  \n",
       "1     [φ17×134mm（including the clip）]    12.2  \n",
       "2  [φ18 x 129mm (including the clip)]    21.6  "
      ]
     },
     "execution_count": 12,
     "metadata": {},
     "output_type": "execute_result"
    }
   ],
   "source": [
    "df.head(3)"
   ]
  },
  {
   "cell_type": "markdown",
   "metadata": {},
   "source": [
    "### most common weight"
   ]
  },
  {
   "cell_type": "code",
   "execution_count": 13,
   "metadata": {},
   "outputs": [
    {
     "data": {
      "text/plain": [
       "np.float64(21.6)"
      ]
     },
     "execution_count": 13,
     "metadata": {},
     "output_type": "execute_result"
    }
   ],
   "source": [
    "df['weight'].median()"
   ]
  },
  {
   "cell_type": "code",
   "execution_count": 14,
   "metadata": {},
   "outputs": [
    {
     "data": {
      "text/plain": [
       "colors\n",
       "[]                                               91\n",
       "[#000000]                                        30\n",
       "[#ff0000]                                        15\n",
       "[#8b0000]                                        11\n",
       "[#00008b]                                        10\n",
       "                                                 ..\n",
       "[#ffb6c1, #32cd32, #ff8c00]                       1\n",
       "[#ffffff, #006400]                                1\n",
       "[#ffb6c1, #00008b, #ffff00, #006400, #ff8c00]     1\n",
       "[#006400, #800080, #00bfff, #daa520]              1\n",
       "[#ffffff, #ff0000, #191970, #006400]              1\n",
       "Name: count, Length: 79, dtype: int64"
      ]
     },
     "execution_count": 14,
     "metadata": {},
     "output_type": "execute_result"
    }
   ],
   "source": [
    "df['colors'].value_counts()"
   ]
  }
 ],
 "metadata": {
  "kernelspec": {
   "display_name": "venv",
   "language": "python",
   "name": "python3"
  },
  "language_info": {
   "codemirror_mode": {
    "name": "ipython",
    "version": 3
   },
   "file_extension": ".py",
   "mimetype": "text/x-python",
   "name": "python",
   "nbconvert_exporter": "python",
   "pygments_lexer": "ipython3",
   "version": "3.11.2"
  }
 },
 "nbformat": 4,
 "nbformat_minor": 2
}
